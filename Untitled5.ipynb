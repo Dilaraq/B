{
 "cells": [
  {
   "cell_type": "code",
   "execution_count": 1,
   "id": "097e2af2",
   "metadata": {},
   "outputs": [
    {
     "name": "stdout",
     "output_type": "stream",
     "text": [
      "['a', 13, ['kedi'], 'b', 58]\n"
     ]
    }
   ],
   "source": [
    "def reverse(D):\n",
    "    D.reverse()\n",
    "    return D\n",
    "D = [58, 'b', ['kedi'], 13, 'a']\n",
    "print(reverse(D))"
   ]
  },
  {
   "cell_type": "code",
   "execution_count": null,
   "id": "c48d12d7",
   "metadata": {},
   "outputs": [],
   "source": []
  }
 ],
 "metadata": {
  "kernelspec": {
   "display_name": "Python 3 (ipykernel)",
   "language": "python",
   "name": "python3"
  },
  "language_info": {
   "codemirror_mode": {
    "name": "ipython",
    "version": 3
   },
   "file_extension": ".py",
   "mimetype": "text/x-python",
   "name": "python",
   "nbconvert_exporter": "python",
   "pygments_lexer": "ipython3",
   "version": "3.9.6"
  }
 },
 "nbformat": 4,
 "nbformat_minor": 5
}
